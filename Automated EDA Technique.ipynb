{
 "cells": [
  {
   "cell_type": "code",
   "execution_count": 1,
   "id": "b213d4b3",
   "metadata": {},
   "outputs": [
    {
     "name": "stderr",
     "output_type": "stream",
     "text": [
      "/Users/omarelmiujahid/anaconda3/lib/python3.11/site-packages/pandas/core/arrays/masked.py:60: UserWarning: Pandas requires version '1.3.6' or newer of 'bottleneck' (version '1.3.5' currently installed).\n",
      "  from pandas.core import (\n",
      "/var/folders/6w/9_h5fcq14194n3srgpp886jm0000gn/T/ipykernel_3769/2274191625.py:1: DeprecationWarning: `import pandas_profiling` is going to be deprecated by April 1st. Please use `import ydata_profiling` instead.\n",
      "  from pandas_profiling import ProfileReport\n"
     ]
    }
   ],
   "source": [
    "from pandas_profiling import ProfileReport"
   ]
  },
  {
   "cell_type": "code",
   "execution_count": 3,
   "id": "cd608aa7",
   "metadata": {},
   "outputs": [],
   "source": [
    "import pandas as pd\n",
    "import seaborn as sns"
   ]
  },
  {
   "cell_type": "code",
   "execution_count": 4,
   "id": "1a19fb8a",
   "metadata": {},
   "outputs": [],
   "source": [
    "df=pd.read_csv('/Users/omarelmiujahid/Black Friday/train.csv')"
   ]
  },
  {
   "cell_type": "code",
   "execution_count": 5,
   "id": "ca7f9616",
   "metadata": {},
   "outputs": [
    {
     "data": {
      "text/html": [
       "<div>\n",
       "<style scoped>\n",
       "    .dataframe tbody tr th:only-of-type {\n",
       "        vertical-align: middle;\n",
       "    }\n",
       "\n",
       "    .dataframe tbody tr th {\n",
       "        vertical-align: top;\n",
       "    }\n",
       "\n",
       "    .dataframe thead th {\n",
       "        text-align: right;\n",
       "    }\n",
       "</style>\n",
       "<table border=\"1\" class=\"dataframe\">\n",
       "  <thead>\n",
       "    <tr style=\"text-align: right;\">\n",
       "      <th></th>\n",
       "      <th>User_ID</th>\n",
       "      <th>Product_ID</th>\n",
       "      <th>Gender</th>\n",
       "      <th>Age</th>\n",
       "      <th>Occupation</th>\n",
       "      <th>City_Category</th>\n",
       "      <th>Stay_In_Current_City_Years</th>\n",
       "      <th>Marital_Status</th>\n",
       "      <th>Product_Category_1</th>\n",
       "      <th>Product_Category_2</th>\n",
       "      <th>Product_Category_3</th>\n",
       "      <th>Purchase</th>\n",
       "    </tr>\n",
       "  </thead>\n",
       "  <tbody>\n",
       "    <tr>\n",
       "      <th>0</th>\n",
       "      <td>1000001</td>\n",
       "      <td>P00069042</td>\n",
       "      <td>F</td>\n",
       "      <td>0-17</td>\n",
       "      <td>10</td>\n",
       "      <td>A</td>\n",
       "      <td>2</td>\n",
       "      <td>0</td>\n",
       "      <td>3</td>\n",
       "      <td>NaN</td>\n",
       "      <td>NaN</td>\n",
       "      <td>8370</td>\n",
       "    </tr>\n",
       "    <tr>\n",
       "      <th>1</th>\n",
       "      <td>1000001</td>\n",
       "      <td>P00248942</td>\n",
       "      <td>F</td>\n",
       "      <td>0-17</td>\n",
       "      <td>10</td>\n",
       "      <td>A</td>\n",
       "      <td>2</td>\n",
       "      <td>0</td>\n",
       "      <td>1</td>\n",
       "      <td>6.0</td>\n",
       "      <td>14.0</td>\n",
       "      <td>15200</td>\n",
       "    </tr>\n",
       "    <tr>\n",
       "      <th>2</th>\n",
       "      <td>1000001</td>\n",
       "      <td>P00087842</td>\n",
       "      <td>F</td>\n",
       "      <td>0-17</td>\n",
       "      <td>10</td>\n",
       "      <td>A</td>\n",
       "      <td>2</td>\n",
       "      <td>0</td>\n",
       "      <td>12</td>\n",
       "      <td>NaN</td>\n",
       "      <td>NaN</td>\n",
       "      <td>1422</td>\n",
       "    </tr>\n",
       "    <tr>\n",
       "      <th>3</th>\n",
       "      <td>1000001</td>\n",
       "      <td>P00085442</td>\n",
       "      <td>F</td>\n",
       "      <td>0-17</td>\n",
       "      <td>10</td>\n",
       "      <td>A</td>\n",
       "      <td>2</td>\n",
       "      <td>0</td>\n",
       "      <td>12</td>\n",
       "      <td>14.0</td>\n",
       "      <td>NaN</td>\n",
       "      <td>1057</td>\n",
       "    </tr>\n",
       "    <tr>\n",
       "      <th>4</th>\n",
       "      <td>1000002</td>\n",
       "      <td>P00285442</td>\n",
       "      <td>M</td>\n",
       "      <td>55+</td>\n",
       "      <td>16</td>\n",
       "      <td>C</td>\n",
       "      <td>4+</td>\n",
       "      <td>0</td>\n",
       "      <td>8</td>\n",
       "      <td>NaN</td>\n",
       "      <td>NaN</td>\n",
       "      <td>7969</td>\n",
       "    </tr>\n",
       "  </tbody>\n",
       "</table>\n",
       "</div>"
      ],
      "text/plain": [
       "   User_ID Product_ID Gender   Age  Occupation City_Category  \\\n",
       "0  1000001  P00069042      F  0-17          10             A   \n",
       "1  1000001  P00248942      F  0-17          10             A   \n",
       "2  1000001  P00087842      F  0-17          10             A   \n",
       "3  1000001  P00085442      F  0-17          10             A   \n",
       "4  1000002  P00285442      M   55+          16             C   \n",
       "\n",
       "  Stay_In_Current_City_Years  Marital_Status  Product_Category_1  \\\n",
       "0                          2               0                   3   \n",
       "1                          2               0                   1   \n",
       "2                          2               0                  12   \n",
       "3                          2               0                  12   \n",
       "4                         4+               0                   8   \n",
       "\n",
       "   Product_Category_2  Product_Category_3  Purchase  \n",
       "0                 NaN                 NaN      8370  \n",
       "1                 6.0                14.0     15200  \n",
       "2                 NaN                 NaN      1422  \n",
       "3                14.0                 NaN      1057  \n",
       "4                 NaN                 NaN      7969  "
      ]
     },
     "execution_count": 5,
     "metadata": {},
     "output_type": "execute_result"
    }
   ],
   "source": [
    "df.head()"
   ]
  },
  {
   "cell_type": "code",
   "execution_count": 5,
   "id": "e0ca155b",
   "metadata": {},
   "outputs": [],
   "source": [
    "profile=ProfileReport(df,explorative=True,dark_mode=True)"
   ]
  },
  {
   "cell_type": "code",
   "execution_count": 6,
   "id": "71283f2d",
   "metadata": {},
   "outputs": [
    {
     "data": {
      "application/vnd.jupyter.widget-view+json": {
       "model_id": "188473f046bd43af891d3b249689026a",
       "version_major": 2,
       "version_minor": 0
      },
      "text/plain": [
       "Summarize dataset:   0%|          | 0/5 [00:00<?, ?it/s]"
      ]
     },
     "metadata": {},
     "output_type": "display_data"
    },
    {
     "data": {
      "application/vnd.jupyter.widget-view+json": {
       "model_id": "93e4bc9c1c9a4568a127a731ca0b43dc",
       "version_major": 2,
       "version_minor": 0
      },
      "text/plain": [
       "Generate report structure:   0%|          | 0/1 [00:00<?, ?it/s]"
      ]
     },
     "metadata": {},
     "output_type": "display_data"
    },
    {
     "data": {
      "application/vnd.jupyter.widget-view+json": {
       "model_id": "9d2f22e30e0b490299dd1821c4a1b743",
       "version_major": 2,
       "version_minor": 0
      },
      "text/plain": [
       "Render HTML:   0%|          | 0/1 [00:00<?, ?it/s]"
      ]
     },
     "metadata": {},
     "output_type": "display_data"
    },
    {
     "data": {
      "application/vnd.jupyter.widget-view+json": {
       "model_id": "b6dd84be3e5d4ec08bab6d9e84421c9b",
       "version_major": 2,
       "version_minor": 0
      },
      "text/plain": [
       "Export report to file:   0%|          | 0/1 [00:00<?, ?it/s]"
      ]
     },
     "metadata": {},
     "output_type": "display_data"
    }
   ],
   "source": [
    "profile.to_file('output.html')"
   ]
  },
  {
   "cell_type": "code",
   "execution_count": 10,
   "id": "20bc1afb",
   "metadata": {},
   "outputs": [
    {
     "ename": "ModuleNotFoundError",
     "evalue": "No module named 'dtale'",
     "output_type": "error",
     "traceback": [
      "\u001b[0;31m---------------------------------------------------------------------------\u001b[0m",
      "\u001b[0;31mModuleNotFoundError\u001b[0m                       Traceback (most recent call last)",
      "Cell \u001b[0;32mIn[10], line 1\u001b[0m\n\u001b[0;32m----> 1\u001b[0m \u001b[38;5;28;01mimport\u001b[39;00m \u001b[38;5;21;01mdtale\u001b[39;00m\n",
      "\u001b[0;31mModuleNotFoundError\u001b[0m: No module named 'dtale'"
     ]
    }
   ],
   "source": [
    "import dtale"
   ]
  },
  {
   "cell_type": "code",
   "execution_count": 11,
   "id": "fe8308f2",
   "metadata": {},
   "outputs": [
    {
     "name": "stdout",
     "output_type": "stream",
     "text": [
      "\u001b[33mWARNING: Package(s) not found: dtale\u001b[0m\u001b[33m\n",
      "\u001b[0mNote: you may need to restart the kernel to use updated packages.\n"
     ]
    }
   ],
   "source": [
    "pip show dtale\n"
   ]
  },
  {
   "cell_type": "code",
   "execution_count": 13,
   "id": "5e55c248",
   "metadata": {},
   "outputs": [
    {
     "name": "stdout",
     "output_type": "stream",
     "text": [
      "Requirement already satisfied: pip in /Users/omarelmiujahid/anaconda3/lib/python3.11/site-packages (23.2.1)\n",
      "Collecting pip\n",
      "  Obtaining dependency information for pip from https://files.pythonhosted.org/packages/d4/55/90db48d85f7689ec6f81c0db0622d704306c5284850383c090e6c7195a5c/pip-24.2-py3-none-any.whl.metadata\n",
      "  Downloading pip-24.2-py3-none-any.whl.metadata (3.6 kB)\n",
      "Downloading pip-24.2-py3-none-any.whl (1.8 MB)\n",
      "\u001b[2K   \u001b[90m━━━━━━━━━━━━━━━━━━━━━━━━━━━━━━━━━━━━━━━━\u001b[0m \u001b[32m1.8/1.8 MB\u001b[0m \u001b[31m1.6 MB/s\u001b[0m eta \u001b[36m0:00:00\u001b[0m00:01\u001b[0m00:01\u001b[0m0m\n",
      "\u001b[?25hInstalling collected packages: pip\n",
      "  Attempting uninstall: pip\n",
      "    Found existing installation: pip 23.2.1\n",
      "    Uninstalling pip-23.2.1:\n",
      "      Successfully uninstalled pip-23.2.1\n",
      "Successfully installed pip-24.2\n",
      "Note: you may need to restart the kernel to use updated packages.\n"
     ]
    }
   ],
   "source": [
    "pip install --upgrade pip\n"
   ]
  },
  {
   "cell_type": "code",
   "execution_count": 1,
   "id": "844326db",
   "metadata": {},
   "outputs": [
    {
     "name": "stdout",
     "output_type": "stream",
     "text": [
      "Collecting dtale\n",
      "  Downloading dtale-3.14.1-py2.py3-none-any.whl.metadata (17 kB)\n",
      "Requirement already satisfied: dash-colorscales in /Users/omarelmiujahid/anaconda3/lib/python3.11/site-packages (from dtale) (0.0.4)\n",
      "Collecting dash-daq (from dtale)\n",
      "  Using cached dash_daq-0.5.0-py3-none-any.whl\n",
      "Requirement already satisfied: Flask-Compress in /Users/omarelmiujahid/anaconda3/lib/python3.11/site-packages (from dtale) (1.15)\n",
      "Requirement already satisfied: future>=0.14.0 in /Users/omarelmiujahid/anaconda3/lib/python3.11/site-packages (from dtale) (0.18.3)\n",
      "Requirement already satisfied: kaleido in /Users/omarelmiujahid/anaconda3/lib/python3.11/site-packages (from dtale) (0.2.1)\n",
      "Requirement already satisfied: missingno in /Users/omarelmiujahid/anaconda3/lib/python3.11/site-packages (from dtale) (0.5.2)\n",
      "Requirement already satisfied: pandas in /Users/omarelmiujahid/anaconda3/lib/python3.11/site-packages (from dtale) (2.2.2)\n",
      "Requirement already satisfied: squarify in /Users/omarelmiujahid/anaconda3/lib/python3.11/site-packages (from dtale) (0.4.4)\n",
      "Requirement already satisfied: strsimpy in /Users/omarelmiujahid/anaconda3/lib/python3.11/site-packages (from dtale) (0.2.1)\n",
      "Requirement already satisfied: six in /Users/omarelmiujahid/anaconda3/lib/python3.11/site-packages (from dtale) (1.16.0)\n",
      "Requirement already satisfied: xlrd in /Users/omarelmiujahid/anaconda3/lib/python3.11/site-packages (from dtale) (2.0.1)\n",
      "Requirement already satisfied: beautifulsoup4!=4.13.0b2 in /Users/omarelmiujahid/anaconda3/lib/python3.11/site-packages (from dtale) (4.12.2)\n",
      "Requirement already satisfied: certifi in /Users/omarelmiujahid/anaconda3/lib/python3.11/site-packages (from dtale) (2024.7.4)\n",
      "Requirement already satisfied: flask-ngrok in /Users/omarelmiujahid/anaconda3/lib/python3.11/site-packages (from dtale) (0.0.25)\n",
      "Requirement already satisfied: lz4 in /Users/omarelmiujahid/anaconda3/lib/python3.11/site-packages (from dtale) (4.3.2)\n",
      "Requirement already satisfied: cycler in /Users/omarelmiujahid/anaconda3/lib/python3.11/site-packages (from dtale) (0.11.0)\n",
      "Collecting dash-bootstrap-components<=1.3.1 (from dtale)\n",
      "  Downloading dash_bootstrap_components-1.3.1-py3-none-any.whl.metadata (5.2 kB)\n",
      "Requirement already satisfied: dash in /Users/omarelmiujahid/anaconda3/lib/python3.11/site-packages (from dtale) (2.18.1)\n",
      "Requirement already satisfied: seaborn in /Users/omarelmiujahid/anaconda3/lib/python3.11/site-packages (from dtale) (0.12.2)\n",
      "Requirement already satisfied: werkzeug in /Users/omarelmiujahid/anaconda3/lib/python3.11/site-packages (from dtale) (2.2.3)\n",
      "Requirement already satisfied: scikit-learn in /Users/omarelmiujahid/anaconda3/lib/python3.11/site-packages (from dtale) (1.3.0)\n",
      "Requirement already satisfied: statsmodels in /Users/omarelmiujahid/anaconda3/lib/python3.11/site-packages (from dtale) (0.14.0)\n",
      "Requirement already satisfied: networkx in /Users/omarelmiujahid/anaconda3/lib/python3.11/site-packages (from dtale) (3.1)\n",
      "Requirement already satisfied: numpy in /Users/omarelmiujahid/anaconda3/lib/python3.11/site-packages (from dtale) (1.24.3)\n",
      "Requirement already satisfied: openpyxl!=3.2.0b1 in /Users/omarelmiujahid/anaconda3/lib/python3.11/site-packages (from dtale) (3.1.5)\n",
      "Requirement already satisfied: xarray in /Users/omarelmiujahid/anaconda3/lib/python3.11/site-packages (from dtale) (2023.6.0)\n",
      "Requirement already satisfied: scipy!=1.12.0rc1,!=1.14.0,!=1.14.0rc1,!=1.14.0rc2 in /Users/omarelmiujahid/anaconda3/lib/python3.11/site-packages (from dtale) (1.11.1)\n",
      "Requirement already satisfied: et-xmlfile in /Users/omarelmiujahid/anaconda3/lib/python3.11/site-packages (from dtale) (1.1.0)\n",
      "Requirement already satisfied: plotly in /Users/omarelmiujahid/anaconda3/lib/python3.11/site-packages (from dtale) (5.9.0)\n",
      "Requirement already satisfied: Flask<2.3 in /Users/omarelmiujahid/anaconda3/lib/python3.11/site-packages (from dtale) (2.2.2)\n",
      "Requirement already satisfied: requests in /Users/omarelmiujahid/anaconda3/lib/python3.11/site-packages (from dtale) (2.31.0)\n",
      "Requirement already satisfied: itsdangerous in /Users/omarelmiujahid/anaconda3/lib/python3.11/site-packages (from dtale) (2.0.1)\n",
      "Requirement already satisfied: contourpy in /Users/omarelmiujahid/anaconda3/lib/python3.11/site-packages (from dtale) (1.0.5)\n",
      "Requirement already satisfied: matplotlib in /Users/omarelmiujahid/anaconda3/lib/python3.11/site-packages (from dtale) (3.7.2)\n",
      "Requirement already satisfied: soupsieve>1.2 in /Users/omarelmiujahid/anaconda3/lib/python3.11/site-packages (from beautifulsoup4!=4.13.0b2->dtale) (2.4)\n",
      "Requirement already satisfied: dash-html-components==2.0.0 in /Users/omarelmiujahid/anaconda3/lib/python3.11/site-packages (from dash->dtale) (2.0.0)\n",
      "Requirement already satisfied: dash-core-components==2.0.0 in /Users/omarelmiujahid/anaconda3/lib/python3.11/site-packages (from dash->dtale) (2.0.0)\n",
      "Requirement already satisfied: dash-table==5.0.0 in /Users/omarelmiujahid/anaconda3/lib/python3.11/site-packages (from dash->dtale) (5.0.0)\n",
      "Requirement already satisfied: importlib-metadata in /Users/omarelmiujahid/anaconda3/lib/python3.11/site-packages (from dash->dtale) (6.0.0)\n",
      "Requirement already satisfied: typing-extensions>=4.1.1 in /Users/omarelmiujahid/anaconda3/lib/python3.11/site-packages (from dash->dtale) (4.12.2)\n",
      "Requirement already satisfied: retrying in /Users/omarelmiujahid/anaconda3/lib/python3.11/site-packages (from dash->dtale) (1.3.4)\n",
      "Requirement already satisfied: nest-asyncio in /Users/omarelmiujahid/anaconda3/lib/python3.11/site-packages (from dash->dtale) (1.5.6)\n",
      "Requirement already satisfied: setuptools in /Users/omarelmiujahid/anaconda3/lib/python3.11/site-packages (from dash->dtale) (68.0.0)\n",
      "Requirement already satisfied: Jinja2>=3.0 in /Users/omarelmiujahid/anaconda3/lib/python3.11/site-packages (from Flask<2.3->dtale) (3.1.2)\n",
      "Requirement already satisfied: click>=8.0 in /Users/omarelmiujahid/anaconda3/lib/python3.11/site-packages (from Flask<2.3->dtale) (8.0.4)\n",
      "Requirement already satisfied: tenacity>=6.2.0 in /Users/omarelmiujahid/anaconda3/lib/python3.11/site-packages (from plotly->dtale) (8.2.2)\n",
      "Requirement already satisfied: MarkupSafe>=2.1.1 in /Users/omarelmiujahid/anaconda3/lib/python3.11/site-packages (from werkzeug->dtale) (2.1.1)\n",
      "Requirement already satisfied: brotli in /Users/omarelmiujahid/anaconda3/lib/python3.11/site-packages (from Flask-Compress->dtale) (1.1.0)\n",
      "Requirement already satisfied: zstandard in /Users/omarelmiujahid/anaconda3/lib/python3.11/site-packages (from Flask-Compress->dtale) (0.19.0)\n",
      "Requirement already satisfied: fonttools>=4.22.0 in /Users/omarelmiujahid/anaconda3/lib/python3.11/site-packages (from matplotlib->dtale) (4.25.0)\n",
      "Requirement already satisfied: kiwisolver>=1.0.1 in /Users/omarelmiujahid/anaconda3/lib/python3.11/site-packages (from matplotlib->dtale) (1.4.4)\n",
      "Requirement already satisfied: packaging>=20.0 in /Users/omarelmiujahid/anaconda3/lib/python3.11/site-packages (from matplotlib->dtale) (23.1)\n",
      "Requirement already satisfied: pillow>=6.2.0 in /Users/omarelmiujahid/anaconda3/lib/python3.11/site-packages (from matplotlib->dtale) (10.0.1)\n",
      "Requirement already satisfied: pyparsing<3.1,>=2.3.1 in /Users/omarelmiujahid/anaconda3/lib/python3.11/site-packages (from matplotlib->dtale) (3.0.9)\n",
      "Requirement already satisfied: python-dateutil>=2.7 in /Users/omarelmiujahid/anaconda3/lib/python3.11/site-packages (from matplotlib->dtale) (2.8.2)\n",
      "Requirement already satisfied: pytz>=2020.1 in /Users/omarelmiujahid/anaconda3/lib/python3.11/site-packages (from pandas->dtale) (2023.3.post1)\n",
      "Requirement already satisfied: tzdata>=2022.7 in /Users/omarelmiujahid/anaconda3/lib/python3.11/site-packages (from pandas->dtale) (2023.3)\n",
      "Requirement already satisfied: charset-normalizer<4,>=2 in /Users/omarelmiujahid/anaconda3/lib/python3.11/site-packages (from requests->dtale) (2.0.4)\n",
      "Requirement already satisfied: idna<4,>=2.5 in /Users/omarelmiujahid/anaconda3/lib/python3.11/site-packages (from requests->dtale) (3.4)\n",
      "Requirement already satisfied: urllib3<3,>=1.21.1 in /Users/omarelmiujahid/anaconda3/lib/python3.11/site-packages (from requests->dtale) (1.26.16)\n",
      "Requirement already satisfied: joblib>=1.1.1 in /Users/omarelmiujahid/anaconda3/lib/python3.11/site-packages (from scikit-learn->dtale) (1.1.1)\n",
      "Requirement already satisfied: threadpoolctl>=2.0.0 in /Users/omarelmiujahid/anaconda3/lib/python3.11/site-packages (from scikit-learn->dtale) (2.2.0)\n"
     ]
    },
    {
     "name": "stdout",
     "output_type": "stream",
     "text": [
      "Requirement already satisfied: patsy>=0.5.2 in /Users/omarelmiujahid/anaconda3/lib/python3.11/site-packages (from statsmodels->dtale) (0.5.3)\n",
      "Requirement already satisfied: zipp>=0.5 in /Users/omarelmiujahid/anaconda3/lib/python3.11/site-packages (from importlib-metadata->dash->dtale) (3.11.0)\n",
      "Downloading dtale-3.14.1-py2.py3-none-any.whl (14.5 MB)\n",
      "\u001b[2K   \u001b[90m━━━━━━━━━━━━━━━━━━━━━━━━━━━━━━━━━━━━━━━━\u001b[0m \u001b[32m14.5/14.5 MB\u001b[0m \u001b[31m1.7 MB/s\u001b[0m eta \u001b[36m0:00:00\u001b[0m00:01\u001b[0m00:01\u001b[0m\n",
      "\u001b[?25hDownloading dash_bootstrap_components-1.3.1-py3-none-any.whl (219 kB)\n",
      "Installing collected packages: dash-daq, dash-bootstrap-components, dtale\n",
      "Successfully installed dash-bootstrap-components-1.3.1 dash-daq-0.5.0 dtale-3.14.1\n",
      "Note: you may need to restart the kernel to use updated packages.\n"
     ]
    }
   ],
   "source": [
    "pip install dtale\n"
   ]
  },
  {
   "cell_type": "code",
   "execution_count": 2,
   "id": "f74d3fb6",
   "metadata": {},
   "outputs": [
    {
     "name": "stderr",
     "output_type": "stream",
     "text": [
      "/Users/omarelmiujahid/anaconda3/lib/python3.11/site-packages/pandas/core/arrays/masked.py:60: UserWarning: Pandas requires version '1.3.6' or newer of 'bottleneck' (version '1.3.5' currently installed).\n",
      "  from pandas.core import (\n"
     ]
    }
   ],
   "source": [
    "import dtale\n"
   ]
  },
  {
   "cell_type": "code",
   "execution_count": 6,
   "id": "bef0ab8f",
   "metadata": {},
   "outputs": [
    {
     "data": {
      "text/html": [
       "\n",
       "        <iframe\n",
       "            width=\"100%\"\n",
       "            height=\"475\"\n",
       "            src=\"http://omar.local:40000/dtale/iframe/1\"\n",
       "            frameborder=\"0\"\n",
       "            allowfullscreen\n",
       "            \n",
       "        ></iframe>\n",
       "        "
      ],
      "text/plain": [
       "<IPython.lib.display.IFrame at 0x1291bf0d0>"
      ]
     },
     "metadata": {},
     "output_type": "display_data"
    },
    {
     "data": {
      "text/plain": []
     },
     "execution_count": 6,
     "metadata": {},
     "output_type": "execute_result"
    }
   ],
   "source": [
    "dtale.show(df)"
   ]
  },
  {
   "cell_type": "code",
   "execution_count": 7,
   "id": "916bc809",
   "metadata": {},
   "outputs": [],
   "source": [
    "d = dtale.show(df)\n",
    "d.open_browser()"
   ]
  },
  {
   "cell_type": "code",
   "execution_count": 8,
   "id": "516b2b06",
   "metadata": {},
   "outputs": [
    {
     "name": "stderr",
     "output_type": "stream",
     "text": [
      "/Users/omarelmiujahid/anaconda3/lib/python3.11/site-packages/dtale/column_analysis.py:402: FutureWarning:\n",
      "\n",
      "pandas.value_counts is deprecated and will be removed in a future version. Use pd.Series(obj).value_counts() instead.\n",
      "\n",
      "/Users/omarelmiujahid/anaconda3/lib/python3.11/site-packages/dtale/column_analysis.py:402: FutureWarning:\n",
      "\n",
      "pandas.value_counts is deprecated and will be removed in a future version. Use pd.Series(obj).value_counts() instead.\n",
      "\n"
     ]
    }
   ],
   "source": [
    "dtale.show(df).open_browser()"
   ]
  },
  {
   "cell_type": "code",
   "execution_count": null,
   "id": "97d00775",
   "metadata": {},
   "outputs": [],
   "source": []
  }
 ],
 "metadata": {
  "kernelspec": {
   "display_name": "Python 3 (ipykernel)",
   "language": "python",
   "name": "python3"
  },
  "language_info": {
   "codemirror_mode": {
    "name": "ipython",
    "version": 3
   },
   "file_extension": ".py",
   "mimetype": "text/x-python",
   "name": "python",
   "nbconvert_exporter": "python",
   "pygments_lexer": "ipython3",
   "version": "3.11.5"
  }
 },
 "nbformat": 4,
 "nbformat_minor": 5
}
